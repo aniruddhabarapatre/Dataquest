{
 "cells": [
  {
   "cell_type": "markdown",
   "metadata": {},
   "source": [
    "# Descriptive Statistics - Fandango reviews\n",
    "\n",
    "This project is based of FiveThirtyEight's exploration of suspicious high ratings given by Fandango. The article can be found [here](http://fivethirtyeight.com/features/fandango-movies-ratings/)"
   ]
  },
  {
   "cell_type": "code",
   "execution_count": 14,
   "metadata": {
    "collapsed": false
   },
   "outputs": [
    {
     "data": {
      "text/html": [
       "<div>\n",
       "<table border=\"1\" class=\"dataframe\">\n",
       "  <thead>\n",
       "    <tr style=\"text-align: right;\">\n",
       "      <th></th>\n",
       "      <th>FILM</th>\n",
       "      <th>RottenTomatoes</th>\n",
       "      <th>RottenTomatoes_User</th>\n",
       "      <th>Metacritic</th>\n",
       "      <th>Metacritic_User</th>\n",
       "      <th>IMDB</th>\n",
       "      <th>Fandango_Stars</th>\n",
       "      <th>Fandango_Ratingvalue</th>\n",
       "      <th>RT_norm</th>\n",
       "      <th>RT_user_norm</th>\n",
       "      <th>...</th>\n",
       "      <th>IMDB_norm</th>\n",
       "      <th>RT_norm_round</th>\n",
       "      <th>RT_user_norm_round</th>\n",
       "      <th>Metacritic_norm_round</th>\n",
       "      <th>Metacritic_user_norm_round</th>\n",
       "      <th>IMDB_norm_round</th>\n",
       "      <th>Metacritic_user_vote_count</th>\n",
       "      <th>IMDB_user_vote_count</th>\n",
       "      <th>Fandango_votes</th>\n",
       "      <th>Fandango_Difference</th>\n",
       "    </tr>\n",
       "  </thead>\n",
       "  <tbody>\n",
       "    <tr>\n",
       "      <th>0</th>\n",
       "      <td>Avengers: Age of Ultron (2015)</td>\n",
       "      <td>74</td>\n",
       "      <td>86</td>\n",
       "      <td>66</td>\n",
       "      <td>7.1</td>\n",
       "      <td>7.8</td>\n",
       "      <td>5.0</td>\n",
       "      <td>4.5</td>\n",
       "      <td>3.70</td>\n",
       "      <td>4.3</td>\n",
       "      <td>...</td>\n",
       "      <td>3.90</td>\n",
       "      <td>3.5</td>\n",
       "      <td>4.5</td>\n",
       "      <td>3.5</td>\n",
       "      <td>3.5</td>\n",
       "      <td>4.0</td>\n",
       "      <td>1330</td>\n",
       "      <td>271107</td>\n",
       "      <td>14846</td>\n",
       "      <td>0.5</td>\n",
       "    </tr>\n",
       "    <tr>\n",
       "      <th>1</th>\n",
       "      <td>Cinderella (2015)</td>\n",
       "      <td>85</td>\n",
       "      <td>80</td>\n",
       "      <td>67</td>\n",
       "      <td>7.5</td>\n",
       "      <td>7.1</td>\n",
       "      <td>5.0</td>\n",
       "      <td>4.5</td>\n",
       "      <td>4.25</td>\n",
       "      <td>4.0</td>\n",
       "      <td>...</td>\n",
       "      <td>3.55</td>\n",
       "      <td>4.5</td>\n",
       "      <td>4.0</td>\n",
       "      <td>3.5</td>\n",
       "      <td>4.0</td>\n",
       "      <td>3.5</td>\n",
       "      <td>249</td>\n",
       "      <td>65709</td>\n",
       "      <td>12640</td>\n",
       "      <td>0.5</td>\n",
       "    </tr>\n",
       "    <tr>\n",
       "      <th>2</th>\n",
       "      <td>Ant-Man (2015)</td>\n",
       "      <td>80</td>\n",
       "      <td>90</td>\n",
       "      <td>64</td>\n",
       "      <td>8.1</td>\n",
       "      <td>7.8</td>\n",
       "      <td>5.0</td>\n",
       "      <td>4.5</td>\n",
       "      <td>4.00</td>\n",
       "      <td>4.5</td>\n",
       "      <td>...</td>\n",
       "      <td>3.90</td>\n",
       "      <td>4.0</td>\n",
       "      <td>4.5</td>\n",
       "      <td>3.0</td>\n",
       "      <td>4.0</td>\n",
       "      <td>4.0</td>\n",
       "      <td>627</td>\n",
       "      <td>103660</td>\n",
       "      <td>12055</td>\n",
       "      <td>0.5</td>\n",
       "    </tr>\n",
       "  </tbody>\n",
       "</table>\n",
       "<p>3 rows × 22 columns</p>\n",
       "</div>"
      ],
      "text/plain": [
       "                             FILM  RottenTomatoes  RottenTomatoes_User  \\\n",
       "0  Avengers: Age of Ultron (2015)              74                   86   \n",
       "1               Cinderella (2015)              85                   80   \n",
       "2                  Ant-Man (2015)              80                   90   \n",
       "\n",
       "   Metacritic  Metacritic_User  IMDB  Fandango_Stars  Fandango_Ratingvalue  \\\n",
       "0          66              7.1   7.8             5.0                   4.5   \n",
       "1          67              7.5   7.1             5.0                   4.5   \n",
       "2          64              8.1   7.8             5.0                   4.5   \n",
       "\n",
       "   RT_norm  RT_user_norm         ...           IMDB_norm  RT_norm_round  \\\n",
       "0     3.70           4.3         ...                3.90            3.5   \n",
       "1     4.25           4.0         ...                3.55            4.5   \n",
       "2     4.00           4.5         ...                3.90            4.0   \n",
       "\n",
       "   RT_user_norm_round  Metacritic_norm_round  Metacritic_user_norm_round  \\\n",
       "0                 4.5                    3.5                         3.5   \n",
       "1                 4.0                    3.5                         4.0   \n",
       "2                 4.5                    3.0                         4.0   \n",
       "\n",
       "   IMDB_norm_round  Metacritic_user_vote_count  IMDB_user_vote_count  \\\n",
       "0              4.0                        1330                271107   \n",
       "1              3.5                         249                 65709   \n",
       "2              4.0                         627                103660   \n",
       "\n",
       "   Fandango_votes  Fandango_Difference  \n",
       "0           14846                  0.5  \n",
       "1           12640                  0.5  \n",
       "2           12055                  0.5  \n",
       "\n",
       "[3 rows x 22 columns]"
      ]
     },
     "execution_count": 14,
     "metadata": {},
     "output_type": "execute_result"
    }
   ],
   "source": [
    "import pandas as pd\n",
    "import matplotlib.pyplot as plt\n",
    "%matplotlib inline\n",
    "\n",
    "movie_reviews = pd.read_table(\"http://bit.ly/fandango_score\", sep=',')\n",
    "movie_reviews.head(3)"
   ]
  },
  {
   "cell_type": "code",
   "execution_count": 15,
   "metadata": {
    "collapsed": false
   },
   "outputs": [
    {
     "data": {
      "text/plain": [
       "<matplotlib.axes._subplots.AxesSubplot at 0x1167e4b70>"
      ]
     },
     "execution_count": 15,
     "metadata": {},
     "output_type": "execute_result"
    },
    {
     "data": {
      "image/png": "[encoded data removed]",
      "text/plain": [
       "<matplotlib.figure.Figure at 0x116610518>"
      ]
     },
     "metadata": {},
     "output_type": "display_data"
    }
   ],
   "source": [
    "fig = plt.figure(figsize=(4,8))\n",
    "ax1 = fig.add_subplot(4,1,1)\n",
    "ax2 = fig.add_subplot(4,1,2)\n",
    "ax3 = fig.add_subplot(4,1,3)\n",
    "ax4 = fig.add_subplot(4,1,4)\n",
    "\n",
    "ax1.set_xlim(0,5.0)\n",
    "ax2.set_xlim(0,5.0)\n",
    "ax3.set_xlim(0,5.0)\n",
    "ax4.set_xlim(0,5.0)\n",
    "\n",
    "movie_reviews[\"RT_user_norm\"].hist(ax=ax1)\n",
    "movie_reviews[\"Metacritic_user_nom\"].hist(ax=ax2)\n",
    "movie_reviews[\"Fandango_Ratingvalue\"].hist(ax=ax3)\n",
    "movie_reviews[\"IMDB_norm\"].hist(ax=ax4)"
   ]
  },
  {
   "cell_type": "markdown",
   "metadata": {},
   "source": [
    "As can be seen from above histogram, Fandango has consistenly high ratings for movies (between 3 and 5), while others resemble a nice **Normal Distribution curve**. "
   ]
  },
  {
   "cell_type": "code",
   "execution_count": 16,
   "metadata": {
    "collapsed": false
   },
   "outputs": [
    {
     "name": "stdout",
     "output_type": "stream",
     "text": [
      "Rotten Tomatoes (mean): 3.19383561644\n",
      "Metacritic (mean): 3.2595890411\n",
      "Fandango (mean): 3.84520547945\n",
      "IMDB (mean): 3.36849315068\n"
     ]
    }
   ],
   "source": [
    "def calc_mean(series):\n",
    "    vals = series.values\n",
    "    return sum(vals) / len(vals)\n",
    "    \n",
    "user_reviews = movie_reviews[[\"RT_user_norm\", \"Metacritic_user_nom\", \"Fandango_Ratingvalue\", \"IMDB_norm\"]]\n",
    "user_reviews_mean = user_reviews.apply(calc_mean)\n",
    "\n",
    "rt_mean = user_reviews_mean.RT_user_norm\n",
    "mc_mean = user_reviews_mean.Metacritic_user_nom\n",
    "fg_mean = user_reviews_mean.Fandango_Ratingvalue\n",
    "id_mean = user_reviews_mean.IMDB_norm\n",
    "\n",
    "print(\"Rotten Tomatoes (mean):\", rt_mean)\n",
    "print(\"Metacritic (mean):\", mc_mean)\n",
    "print(\"Fandango (mean):\",fg_mean)\n",
    "print(\"IMDB (mean):\",id_mean)"
   ]
  },
  {
   "cell_type": "markdown",
   "metadata": {},
   "source": [
    "Looking at mean values confirms initial analysis as Fandango's value is much higher than critic review aggregating sites.\n",
    "\n",
    "### Calculate variance and standard deviation"
   ]
  },
  {
   "cell_type": "code",
   "execution_count": 17,
   "metadata": {
    "collapsed": false
   },
   "outputs": [
    {
     "name": "stdout",
     "output_type": "stream",
     "text": [
      "Rotten Tomatoes (variance): 0.995578438731\n",
      "Metacritic (variance): 0.566654625633\n",
      "Fandango (variance): 0.251107149559\n",
      "IMDB (variance): 0.228219647213\n",
      "Rotten Tomatoes (standard deviation): 0.997786770173\n",
      "Metacritic (standard deviation): 0.752764654878\n",
      "Fandango (standard deviation): 0.501105926486\n",
      "IMDB (standard deviation): 0.47772340032\n"
     ]
    }
   ],
   "source": [
    "def calc_variance(series):\n",
    "    mean = calc_mean(series)\n",
    "    variances = (series - mean) ** 2\n",
    "    return calc_mean(variances)\n",
    "    \n",
    "columns = [\"RT_user_norm\", \"Metacritic_user_nom\", \"Fandango_Ratingvalue\", \"IMDB_norm\"]\n",
    "user_reviews = movie_reviews[columns]\n",
    "user_reviews_variances = user_reviews.apply(calc_variance)\n",
    "\n",
    "rt_var = user_reviews_variances.RT_user_norm\n",
    "mc_var = user_reviews_variances.Metacritic_user_nom\n",
    "fg_var = user_reviews_variances.Fandango_Ratingvalue\n",
    "id_var = user_reviews_variances.IMDB_norm\n",
    "\n",
    "rt_stdev = rt_var ** (1/2)\n",
    "mc_stdev = mc_var ** (1/2)\n",
    "fg_stdev = fg_var ** (1/2)\n",
    "id_stdev = id_var ** (1/2)\n",
    "\n",
    "print(\"Rotten Tomatoes (variance):\", rt_var)\n",
    "print(\"Metacritic (variance):\", mc_var)\n",
    "print(\"Fandango (variance):\", fg_var)\n",
    "print(\"IMDB (variance):\", id_var)\n",
    "\n",
    "print(\"Rotten Tomatoes (standard deviation):\", rt_stdev)\n",
    "print(\"Metacritic (standard deviation):\", mc_stdev)\n",
    "print(\"Fandango (standard deviation):\", fg_stdev)\n",
    "print(\"IMDB (standard deviation):\", id_stdev)"
   ]
  },
  {
   "cell_type": "markdown",
   "metadata": {},
   "source": [
    "All the above values matches with the histogram plot. **Rotten Tomatoes** and **Metacritic** have spread out values **(high variance)** with mean around 3, while **Fandango** has low spread **(low variance)** and higher mean.\n",
    "\n",
    "** Let's generate scatter plot comparing Fandago's values to that of others. **"
   ]
  },
  {
   "cell_type": "code",
   "execution_count": 18,
   "metadata": {
    "collapsed": false
   },
   "outputs": [
    {
     "data": {
      "image/png": "[encoded data removed]",
      "text/plain": [
       "<matplotlib.figure.Figure at 0x116b69080>"
      ]
     },
     "metadata": {},
     "output_type": "display_data"
    }
   ],
   "source": [
    "fig = plt.figure(figsize=(4,8))\n",
    "\n",
    "ax1 = fig.add_subplot(3,1,1)\n",
    "ax2 = fig.add_subplot(3,1,2)\n",
    "ax3 = fig.add_subplot(3,1,3)\n",
    "\n",
    "ax1.set(xlabel=\"Rotten Tomatoes\", ylabel=\"Fandango\", xlim=(0,5.0))\n",
    "ax2.set(xlabel=\"Metacritic\", ylabel=\"Fandango\", xlim=(0,5.0))\n",
    "ax3.set(xlabel=\"IMDB\", ylabel=\"Fandango\", xlim=(0,5.0))\n",
    "\n",
    "ax1.scatter(movie_reviews[\"RT_user_norm\"], movie_reviews[\"Fandango_Ratingvalue\"])\n",
    "ax2.scatter(movie_reviews[\"Metacritic_user_nom\"], movie_reviews[\"Fandango_Ratingvalue\"])\n",
    "ax3.scatter(movie_reviews[\"IMDB_norm\"], movie_reviews[\"Fandango_Ratingvalue\"])\n",
    "    \n",
    "plt.show()"
   ]
  },
  {
   "cell_type": "markdown",
   "metadata": {},
   "source": [
    "From the above plots, it seems like RT and IMDB corelates most with Fandango values.\n",
    "\n",
    "### Calculating Covariance"
   ]
  },
  {
   "cell_type": "code",
   "execution_count": 19,
   "metadata": {
    "collapsed": false
   },
   "outputs": [
    {
     "name": "stdout",
     "output_type": "stream",
     "text": [
      "Covariance between Rotten Tomatoes and Fandango: 0.362162225558\n",
      "Covariance between Metacritic and Fandango 0.127100769375\n",
      "Covariance between IMDB and Fandango 0.143718802777\n"
     ]
    }
   ],
   "source": [
    "def calc_covariance(series_one, series_two):\n",
    "    x = series_one.values\n",
    "    y = series_two.values\n",
    "    x_mean = calc_mean(series_one)\n",
    "    y_mean = calc_mean(series_two)\n",
    "    x_diffs = [i - x_mean for i in x]\n",
    "    y_diffs = [i - y_mean for i in y]\n",
    "    codeviates = [x_diffs[i] * y_diffs[i] for i in range(len(x))]\n",
    "    return sum(codeviates) / len(codeviates)\n",
    "\n",
    "rt_fg_covar = calc_covariance(movie_reviews[\"RT_user_norm\"], movie_reviews[\"Fandango_Ratingvalue\"])\n",
    "mc_fg_covar = calc_covariance(movie_reviews[\"Metacritic_user_nom\"], movie_reviews[\"Fandango_Ratingvalue\"])\n",
    "id_fg_covar = calc_covariance(movie_reviews[\"IMDB_norm\"], movie_reviews[\"Fandango_Ratingvalue\"])\n",
    "\n",
    "print(\"Covariance between Rotten Tomatoes and Fandango:\", rt_fg_covar)\n",
    "print(\"Covariance between Metacritic and Fandango\", mc_fg_covar)\n",
    "print(\"Covariance between IMDB and Fandango\", id_fg_covar)"
   ]
  },
  {
   "cell_type": "markdown",
   "metadata": {},
   "source": [
    "Rotten Tomatoes covaries strongly with Fandango **(0.36)** compared to Metacritic **(0.13)** and IMDB **(0.14)**.\n",
    "\n",
    "### Calculating Correlation"
   ]
  },
  {
   "cell_type": "code",
   "execution_count": 21,
   "metadata": {
    "collapsed": false
   },
   "outputs": [
    {
     "name": "stdout",
     "output_type": "stream",
     "text": [
      "Correlation between Rotten Tomatoes and Fandango 0.724328994249\n",
      "Correlation between Metacritic and Fandango 0.336945314265\n",
      "Correlation between IMDB and Fandango 0.600354177263\n"
     ]
    }
   ],
   "source": [
    "def calc_correlation(s1, s2):\n",
    "    cov = calc_covariance(s1, s2)\n",
    "    return cov / ((calc_variance(s1) ** (1/2)) * (calc_variance(s2) ** (1/2)))\n",
    "    \n",
    "rt_fg_corr = calc_correlation(movie_reviews[\"RT_user_norm\"], movie_reviews[\"Fandango_Ratingvalue\"])\n",
    "mc_fg_corr = calc_correlation(movie_reviews[\"Metacritic_user_nom\"], movie_reviews[\"Fandango_Ratingvalue\"])\n",
    "id_fg_corr = calc_correlation(movie_reviews[\"IMDB_norm\"], movie_reviews[\"Fandango_Ratingvalue\"])\n",
    "\n",
    "print(\"Correlation between Rotten Tomatoes and Fandango\", rt_fg_corr)\n",
    "print(\"Correlation between Metacritic and Fandango\", mc_fg_corr)\n",
    "print(\"Correlation between IMDB and Fandango\", id_fg_corr)"
   ]
  },
  {
   "cell_type": "markdown",
   "metadata": {},
   "source": [
    "** This confirms with the scatter plot observations that Rotten Tomatoes and IMDB correlate the strongest with Fandango, with correlation values of 0.72 and 0.60 respectively. Metacritic, on the other hand, only has a correlation value of 0.34 with Fandango. **"
   ]
  },
  {
   "cell_type": "code",
   "execution_count": null,
   "metadata": {
    "collapsed": true
   },
   "outputs": [],
   "source": []
  }
 ],
 "metadata": {
  "kernelspec": {
   "display_name": "Python [Root]",
   "language": "python",
   "name": "Python [Root]"
  },
  "language_info": {
   "codemirror_mode": {
    "name": "ipython",
    "version": 3
   },
   "file_extension": ".py",
   "mimetype": "text/x-python",
   "name": "python",
   "nbconvert_exporter": "python",
   "pygments_lexer": "ipython3",
   "version": "3.5.2"
  }
 },
 "nbformat": 4,
 "nbformat_minor": 0
}
