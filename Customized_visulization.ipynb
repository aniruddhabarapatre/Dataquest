{
 "cells": [
  {
   "cell_type": "markdown",
   "metadata": {
    "collapsed": true
   },
   "source": [
    "**Importing all the required libraries**"
   ]
  },
  {
   "cell_type": "code",
   "execution_count": 1,
   "metadata": {
    "collapsed": false
   },
   "outputs": [],
   "source": [
    "import pandas as pd\n",
    "import matplotlib.pyplot as plt\n",
    "\n",
    "%matplotlib inline"
   ]
  },
  {
   "cell_type": "code",
   "execution_count": 2,
   "metadata": {
    "collapsed": true
   },
   "outputs": [],
   "source": [
    "recent_grads = pd.read_csv(\"recent-grads.csv\")"
   ]
  },
  {
   "cell_type": "code",
   "execution_count": 3,
   "metadata": {
    "collapsed": false
   },
   "outputs": [
    {
     "data": {
      "text/html": [
       "<div>\n",
       "<table border=\"1\" class=\"dataframe\">\n",
       "  <thead>\n",
       "    <tr style=\"text-align: right;\">\n",
       "      <th></th>\n",
       "      <th>Rank</th>\n",
       "      <th>Major_code</th>\n",
       "      <th>Major</th>\n",
       "      <th>Total</th>\n",
       "      <th>Men</th>\n",
       "      <th>Women</th>\n",
       "      <th>Major_category</th>\n",
       "      <th>ShareWomen</th>\n",
       "      <th>Sample_size</th>\n",
       "      <th>Employed</th>\n",
       "      <th>...</th>\n",
       "      <th>Part_time</th>\n",
       "      <th>Full_time_year_round</th>\n",
       "      <th>Unemployed</th>\n",
       "      <th>Unemployment_rate</th>\n",
       "      <th>Median</th>\n",
       "      <th>P25th</th>\n",
       "      <th>P75th</th>\n",
       "      <th>College_jobs</th>\n",
       "      <th>Non_college_jobs</th>\n",
       "      <th>Low_wage_jobs</th>\n",
       "    </tr>\n",
       "  </thead>\n",
       "  <tbody>\n",
       "    <tr>\n",
       "      <th>0</th>\n",
       "      <td>1</td>\n",
       "      <td>2419</td>\n",
       "      <td>PETROLEUM ENGINEERING</td>\n",
       "      <td>2339.0</td>\n",
       "      <td>2057.0</td>\n",
       "      <td>282.0</td>\n",
       "      <td>Engineering</td>\n",
       "      <td>0.120564</td>\n",
       "      <td>36</td>\n",
       "      <td>1976</td>\n",
       "      <td>...</td>\n",
       "      <td>270</td>\n",
       "      <td>1207</td>\n",
       "      <td>37</td>\n",
       "      <td>0.018381</td>\n",
       "      <td>110000</td>\n",
       "      <td>95000</td>\n",
       "      <td>125000</td>\n",
       "      <td>1534</td>\n",
       "      <td>364</td>\n",
       "      <td>193</td>\n",
       "    </tr>\n",
       "  </tbody>\n",
       "</table>\n",
       "<p>1 rows × 21 columns</p>\n",
       "</div>"
      ],
      "text/plain": [
       "   Rank  Major_code                  Major   Total     Men  Women  \\\n",
       "0     1        2419  PETROLEUM ENGINEERING  2339.0  2057.0  282.0   \n",
       "\n",
       "  Major_category  ShareWomen  Sample_size  Employed      ...        Part_time  \\\n",
       "0    Engineering    0.120564           36      1976      ...              270   \n",
       "\n",
       "   Full_time_year_round  Unemployed  Unemployment_rate  Median  P25th   P75th  \\\n",
       "0                  1207          37           0.018381  110000  95000  125000   \n",
       "\n",
       "   College_jobs  Non_college_jobs  Low_wage_jobs  \n",
       "0          1534               364            193  \n",
       "\n",
       "[1 rows x 21 columns]"
      ]
     },
     "execution_count": 3,
     "metadata": {},
     "output_type": "execute_result"
    }
   ],
   "source": [
    "recent_grads.head(1)"
   ]
  },
  {
   "cell_type": "code",
   "execution_count": 4,
   "metadata": {
    "collapsed": false
   },
   "outputs": [
    {
     "data": {
      "text/html": [
       "<div>\n",
       "<table border=\"1\" class=\"dataframe\">\n",
       "  <thead>\n",
       "    <tr style=\"text-align: right;\">\n",
       "      <th></th>\n",
       "      <th>Rank</th>\n",
       "      <th>Major_code</th>\n",
       "      <th>Major</th>\n",
       "      <th>Total</th>\n",
       "      <th>Men</th>\n",
       "      <th>Women</th>\n",
       "      <th>Major_category</th>\n",
       "      <th>ShareWomen</th>\n",
       "      <th>Sample_size</th>\n",
       "      <th>Employed</th>\n",
       "      <th>...</th>\n",
       "      <th>Part_time</th>\n",
       "      <th>Full_time_year_round</th>\n",
       "      <th>Unemployed</th>\n",
       "      <th>Unemployment_rate</th>\n",
       "      <th>Median</th>\n",
       "      <th>P25th</th>\n",
       "      <th>P75th</th>\n",
       "      <th>College_jobs</th>\n",
       "      <th>Non_college_jobs</th>\n",
       "      <th>Low_wage_jobs</th>\n",
       "    </tr>\n",
       "  </thead>\n",
       "  <tbody>\n",
       "    <tr>\n",
       "      <th>172</th>\n",
       "      <td>173</td>\n",
       "      <td>3501</td>\n",
       "      <td>LIBRARY SCIENCE</td>\n",
       "      <td>1098.0</td>\n",
       "      <td>134.0</td>\n",
       "      <td>964.0</td>\n",
       "      <td>Education</td>\n",
       "      <td>0.87796</td>\n",
       "      <td>2</td>\n",
       "      <td>742</td>\n",
       "      <td>...</td>\n",
       "      <td>237</td>\n",
       "      <td>410</td>\n",
       "      <td>87</td>\n",
       "      <td>0.104946</td>\n",
       "      <td>22000</td>\n",
       "      <td>20000</td>\n",
       "      <td>22000</td>\n",
       "      <td>288</td>\n",
       "      <td>338</td>\n",
       "      <td>192</td>\n",
       "    </tr>\n",
       "  </tbody>\n",
       "</table>\n",
       "<p>1 rows × 21 columns</p>\n",
       "</div>"
      ],
      "text/plain": [
       "     Rank  Major_code            Major   Total    Men  Women Major_category  \\\n",
       "172   173        3501  LIBRARY SCIENCE  1098.0  134.0  964.0      Education   \n",
       "\n",
       "     ShareWomen  Sample_size  Employed      ...        Part_time  \\\n",
       "172     0.87796            2       742      ...              237   \n",
       "\n",
       "     Full_time_year_round  Unemployed  Unemployment_rate  Median  P25th  \\\n",
       "172                   410          87           0.104946   22000  20000   \n",
       "\n",
       "     P75th  College_jobs  Non_college_jobs  Low_wage_jobs  \n",
       "172  22000           288               338            192  \n",
       "\n",
       "[1 rows x 21 columns]"
      ]
     },
     "execution_count": 4,
     "metadata": {},
     "output_type": "execute_result"
    }
   ],
   "source": [
    "recent_grads.tail(1)"
   ]
  },
  {
   "cell_type": "code",
   "execution_count": 5,
   "metadata": {
    "collapsed": false
   },
   "outputs": [
    {
     "name": "stderr",
     "output_type": "stream",
     "text": [
      "/Users/aniruddhabarapatre1/anaconda/lib/python3.5/site-packages/numpy/lib/function_base.py:3834: RuntimeWarning: Invalid value encountered in percentile\n",
      "  RuntimeWarning)\n"
     ]
    },
    {
     "data": {
      "text/html": [
       "<div>\n",
       "<table border=\"1\" class=\"dataframe\">\n",
       "  <thead>\n",
       "    <tr style=\"text-align: right;\">\n",
       "      <th></th>\n",
       "      <th>Rank</th>\n",
       "      <th>Major_code</th>\n",
       "      <th>Total</th>\n",
       "      <th>Men</th>\n",
       "      <th>Women</th>\n",
       "      <th>ShareWomen</th>\n",
       "      <th>Sample_size</th>\n",
       "      <th>Employed</th>\n",
       "      <th>Full_time</th>\n",
       "      <th>Part_time</th>\n",
       "      <th>Full_time_year_round</th>\n",
       "      <th>Unemployed</th>\n",
       "      <th>Unemployment_rate</th>\n",
       "      <th>Median</th>\n",
       "      <th>P25th</th>\n",
       "      <th>P75th</th>\n",
       "      <th>College_jobs</th>\n",
       "      <th>Non_college_jobs</th>\n",
       "      <th>Low_wage_jobs</th>\n",
       "    </tr>\n",
       "  </thead>\n",
       "  <tbody>\n",
       "    <tr>\n",
       "      <th>count</th>\n",
       "      <td>173.000000</td>\n",
       "      <td>173.000000</td>\n",
       "      <td>172.000000</td>\n",
       "      <td>172.000000</td>\n",
       "      <td>172.000000</td>\n",
       "      <td>172.000000</td>\n",
       "      <td>173.000000</td>\n",
       "      <td>173.000000</td>\n",
       "      <td>173.000000</td>\n",
       "      <td>173.000000</td>\n",
       "      <td>173.000000</td>\n",
       "      <td>173.000000</td>\n",
       "      <td>173.000000</td>\n",
       "      <td>173.000000</td>\n",
       "      <td>173.000000</td>\n",
       "      <td>173.000000</td>\n",
       "      <td>173.000000</td>\n",
       "      <td>173.000000</td>\n",
       "      <td>173.000000</td>\n",
       "    </tr>\n",
       "    <tr>\n",
       "      <th>mean</th>\n",
       "      <td>87.000000</td>\n",
       "      <td>3879.815029</td>\n",
       "      <td>39370.081395</td>\n",
       "      <td>16723.406977</td>\n",
       "      <td>22646.674419</td>\n",
       "      <td>0.522223</td>\n",
       "      <td>356.080925</td>\n",
       "      <td>31192.763006</td>\n",
       "      <td>26029.306358</td>\n",
       "      <td>8832.398844</td>\n",
       "      <td>19694.427746</td>\n",
       "      <td>2416.329480</td>\n",
       "      <td>0.068191</td>\n",
       "      <td>40151.445087</td>\n",
       "      <td>29501.445087</td>\n",
       "      <td>51494.219653</td>\n",
       "      <td>12322.635838</td>\n",
       "      <td>13284.497110</td>\n",
       "      <td>3859.017341</td>\n",
       "    </tr>\n",
       "    <tr>\n",
       "      <th>std</th>\n",
       "      <td>50.084928</td>\n",
       "      <td>1687.753140</td>\n",
       "      <td>63483.491009</td>\n",
       "      <td>28122.433474</td>\n",
       "      <td>41057.330740</td>\n",
       "      <td>0.231205</td>\n",
       "      <td>618.361022</td>\n",
       "      <td>50675.002241</td>\n",
       "      <td>42869.655092</td>\n",
       "      <td>14648.179473</td>\n",
       "      <td>33160.941514</td>\n",
       "      <td>4112.803148</td>\n",
       "      <td>0.030331</td>\n",
       "      <td>11470.181802</td>\n",
       "      <td>9166.005235</td>\n",
       "      <td>14906.279740</td>\n",
       "      <td>21299.868863</td>\n",
       "      <td>23789.655363</td>\n",
       "      <td>6944.998579</td>\n",
       "    </tr>\n",
       "    <tr>\n",
       "      <th>min</th>\n",
       "      <td>1.000000</td>\n",
       "      <td>1100.000000</td>\n",
       "      <td>124.000000</td>\n",
       "      <td>119.000000</td>\n",
       "      <td>0.000000</td>\n",
       "      <td>0.000000</td>\n",
       "      <td>2.000000</td>\n",
       "      <td>0.000000</td>\n",
       "      <td>111.000000</td>\n",
       "      <td>0.000000</td>\n",
       "      <td>111.000000</td>\n",
       "      <td>0.000000</td>\n",
       "      <td>0.000000</td>\n",
       "      <td>22000.000000</td>\n",
       "      <td>18500.000000</td>\n",
       "      <td>22000.000000</td>\n",
       "      <td>0.000000</td>\n",
       "      <td>0.000000</td>\n",
       "      <td>0.000000</td>\n",
       "    </tr>\n",
       "    <tr>\n",
       "      <th>25%</th>\n",
       "      <td>44.000000</td>\n",
       "      <td>2403.000000</td>\n",
       "      <td>NaN</td>\n",
       "      <td>NaN</td>\n",
       "      <td>NaN</td>\n",
       "      <td>NaN</td>\n",
       "      <td>39.000000</td>\n",
       "      <td>3608.000000</td>\n",
       "      <td>3154.000000</td>\n",
       "      <td>1030.000000</td>\n",
       "      <td>2453.000000</td>\n",
       "      <td>304.000000</td>\n",
       "      <td>0.050306</td>\n",
       "      <td>33000.000000</td>\n",
       "      <td>24000.000000</td>\n",
       "      <td>42000.000000</td>\n",
       "      <td>1675.000000</td>\n",
       "      <td>1591.000000</td>\n",
       "      <td>340.000000</td>\n",
       "    </tr>\n",
       "    <tr>\n",
       "      <th>50%</th>\n",
       "      <td>87.000000</td>\n",
       "      <td>3608.000000</td>\n",
       "      <td>NaN</td>\n",
       "      <td>NaN</td>\n",
       "      <td>NaN</td>\n",
       "      <td>NaN</td>\n",
       "      <td>130.000000</td>\n",
       "      <td>11797.000000</td>\n",
       "      <td>10048.000000</td>\n",
       "      <td>3299.000000</td>\n",
       "      <td>7413.000000</td>\n",
       "      <td>893.000000</td>\n",
       "      <td>0.067961</td>\n",
       "      <td>36000.000000</td>\n",
       "      <td>27000.000000</td>\n",
       "      <td>47000.000000</td>\n",
       "      <td>4390.000000</td>\n",
       "      <td>4595.000000</td>\n",
       "      <td>1231.000000</td>\n",
       "    </tr>\n",
       "    <tr>\n",
       "      <th>75%</th>\n",
       "      <td>130.000000</td>\n",
       "      <td>5503.000000</td>\n",
       "      <td>NaN</td>\n",
       "      <td>NaN</td>\n",
       "      <td>NaN</td>\n",
       "      <td>NaN</td>\n",
       "      <td>338.000000</td>\n",
       "      <td>31433.000000</td>\n",
       "      <td>25147.000000</td>\n",
       "      <td>9948.000000</td>\n",
       "      <td>16891.000000</td>\n",
       "      <td>2393.000000</td>\n",
       "      <td>0.087557</td>\n",
       "      <td>45000.000000</td>\n",
       "      <td>33000.000000</td>\n",
       "      <td>60000.000000</td>\n",
       "      <td>14444.000000</td>\n",
       "      <td>11783.000000</td>\n",
       "      <td>3466.000000</td>\n",
       "    </tr>\n",
       "    <tr>\n",
       "      <th>max</th>\n",
       "      <td>173.000000</td>\n",
       "      <td>6403.000000</td>\n",
       "      <td>393735.000000</td>\n",
       "      <td>173809.000000</td>\n",
       "      <td>307087.000000</td>\n",
       "      <td>0.968954</td>\n",
       "      <td>4212.000000</td>\n",
       "      <td>307933.000000</td>\n",
       "      <td>251540.000000</td>\n",
       "      <td>115172.000000</td>\n",
       "      <td>199897.000000</td>\n",
       "      <td>28169.000000</td>\n",
       "      <td>0.177226</td>\n",
       "      <td>110000.000000</td>\n",
       "      <td>95000.000000</td>\n",
       "      <td>125000.000000</td>\n",
       "      <td>151643.000000</td>\n",
       "      <td>148395.000000</td>\n",
       "      <td>48207.000000</td>\n",
       "    </tr>\n",
       "  </tbody>\n",
       "</table>\n",
       "</div>"
      ],
      "text/plain": [
       "             Rank   Major_code          Total            Men          Women  \\\n",
       "count  173.000000   173.000000     172.000000     172.000000     172.000000   \n",
       "mean    87.000000  3879.815029   39370.081395   16723.406977   22646.674419   \n",
       "std     50.084928  1687.753140   63483.491009   28122.433474   41057.330740   \n",
       "min      1.000000  1100.000000     124.000000     119.000000       0.000000   \n",
       "25%     44.000000  2403.000000            NaN            NaN            NaN   \n",
       "50%     87.000000  3608.000000            NaN            NaN            NaN   \n",
       "75%    130.000000  5503.000000            NaN            NaN            NaN   \n",
       "max    173.000000  6403.000000  393735.000000  173809.000000  307087.000000   \n",
       "\n",
       "       ShareWomen  Sample_size       Employed      Full_time      Part_time  \\\n",
       "count  172.000000   173.000000     173.000000     173.000000     173.000000   \n",
       "mean     0.522223   356.080925   31192.763006   26029.306358    8832.398844   \n",
       "std      0.231205   618.361022   50675.002241   42869.655092   14648.179473   \n",
       "min      0.000000     2.000000       0.000000     111.000000       0.000000   \n",
       "25%           NaN    39.000000    3608.000000    3154.000000    1030.000000   \n",
       "50%           NaN   130.000000   11797.000000   10048.000000    3299.000000   \n",
       "75%           NaN   338.000000   31433.000000   25147.000000    9948.000000   \n",
       "max      0.968954  4212.000000  307933.000000  251540.000000  115172.000000   \n",
       "\n",
       "       Full_time_year_round    Unemployed  Unemployment_rate         Median  \\\n",
       "count            173.000000    173.000000         173.000000     173.000000   \n",
       "mean           19694.427746   2416.329480           0.068191   40151.445087   \n",
       "std            33160.941514   4112.803148           0.030331   11470.181802   \n",
       "min              111.000000      0.000000           0.000000   22000.000000   \n",
       "25%             2453.000000    304.000000           0.050306   33000.000000   \n",
       "50%             7413.000000    893.000000           0.067961   36000.000000   \n",
       "75%            16891.000000   2393.000000           0.087557   45000.000000   \n",
       "max           199897.000000  28169.000000           0.177226  110000.000000   \n",
       "\n",
       "              P25th          P75th   College_jobs  Non_college_jobs  \\\n",
       "count    173.000000     173.000000     173.000000        173.000000   \n",
       "mean   29501.445087   51494.219653   12322.635838      13284.497110   \n",
       "std     9166.005235   14906.279740   21299.868863      23789.655363   \n",
       "min    18500.000000   22000.000000       0.000000          0.000000   \n",
       "25%    24000.000000   42000.000000    1675.000000       1591.000000   \n",
       "50%    27000.000000   47000.000000    4390.000000       4595.000000   \n",
       "75%    33000.000000   60000.000000   14444.000000      11783.000000   \n",
       "max    95000.000000  125000.000000  151643.000000     148395.000000   \n",
       "\n",
       "       Low_wage_jobs  \n",
       "count     173.000000  \n",
       "mean     3859.017341  \n",
       "std      6944.998579  \n",
       "min         0.000000  \n",
       "25%       340.000000  \n",
       "50%      1231.000000  \n",
       "75%      3466.000000  \n",
       "max     48207.000000  "
      ]
     },
     "execution_count": 5,
     "metadata": {},
     "output_type": "execute_result"
    }
   ],
   "source": [
    "recent_grads.describe()"
   ]
  },
  {
   "cell_type": "code",
   "execution_count": 6,
   "metadata": {
    "collapsed": false
   },
   "outputs": [
    {
     "data": {
      "text/plain": [
       "173"
      ]
     },
     "execution_count": 6,
     "metadata": {},
     "output_type": "execute_result"
    }
   ],
   "source": [
    "# Total no. of rows\n",
    "recent_grads.shape[0]"
   ]
  },
  {
   "cell_type": "code",
   "execution_count": 7,
   "metadata": {
    "collapsed": true
   },
   "outputs": [],
   "source": [
    "recent_grads_fixed = recent_grads.dropna()"
   ]
  },
  {
   "cell_type": "code",
   "execution_count": 8,
   "metadata": {
    "collapsed": false
   },
   "outputs": [
    {
     "data": {
      "text/plain": [
       "172"
      ]
     },
     "execution_count": 8,
     "metadata": {},
     "output_type": "execute_result"
    }
   ],
   "source": [
    "# Check no. of rows in new dataframe\n",
    "recent_grads_fixed.shape[0]"
   ]
  },
  {
   "cell_type": "markdown",
   "metadata": {},
   "source": [
    "**Creating a scatter matrix to display data**"
   ]
  },
  {
   "cell_type": "code",
   "execution_count": 24,
   "metadata": {
    "collapsed": false
   },
   "outputs": [
    {
     "data": {
      "image/png": "[encoded data removed]",
      "text/plain": [
       "<matplotlib.figure.Figure at 0x1161a0a58>"
      ]
     },
     "metadata": {},
     "output_type": "display_data"
    }
   ],
   "source": [
    "fig = plt.figure(figsize=(8,8))\n",
    "\n",
    "# Histogram to see ShareWomen column (top-left)\n",
    "ax_hist1 = fig.add_subplot(2,2,1)\n",
    "ax_hist1.hist(recent_grads_fixed.ShareWomen)\n",
    "ax_hist1.xaxis.set_visible(False)\n",
    "ax_hist1.set(ylim=(0,30), ylabel=\"ShareWomen\")\n",
    "ax_hist1.set_yticklabels([0, 5, 10, 15, 20, 25, 30])\n",
    "\n",
    "# Scatter plot with ShareWomen and Unemployment_rate (top-right)\n",
    "ax_scatter2 = fig.add_subplot(2,2,2)\n",
    "ax_scatter2.scatter(recent_grads_fixed.Unemployment_rate, recent_grads_fixed.ShareWomen)\n",
    "ax_scatter2.xaxis.set_visible(False)\n",
    "ax_scatter2.yaxis.set_visible(False)\n",
    "ax_scatter2.set(ylim=(0.0,1.0))\n",
    "ax_scatter2.set_yticklabels([0.00, 0.05, 0.10, 0.15])\n",
    "\n",
    "# Scatter plot with Unemployment_rate and ShareWomen (bottom-left)\n",
    "ax_scatter1 = fig.add_subplot(2,2,3)\n",
    "ax_scatter1.scatter(recent_grads_fixed.ShareWomen, recent_grads_fixed.Unemployment_rate)\n",
    "ax_scatter1.set(xlabel=\"ShareWomen\", ylabel=\"Unemployment_rate\", xlim=(0.0,1.0), ylim=(0.0,0.2))\n",
    "ax_scatter1.set_xticklabels([0.0, 0.2, 0.4, 0.6, 0.8], rotation=90)\n",
    "\n",
    "# Histogram to see Unemployment_rate (bottom-right)\n",
    "ax_hist2 = fig.add_subplot(2,2,4)\n",
    "ax_hist2.hist(recent_grads_fixed.Unemployment_rate)\n",
    "ax_hist2.yaxis.set_visible(False)\n",
    "ax_hist2.set(xlim=(0,0.2),xlabel=\"Unemployment_rate\")\n",
    "ax_hist2.set_xticklabels([0.00, 0.05, 0.10, 0.15, 0.20], rotation=90)\n",
    "\n",
    "plt.show()"
   ]
  },
  {
   "cell_type": "markdown",
   "metadata": {
    "collapsed": true
   },
   "source": [
    "### Grouped bar plot to compare gender ratios across majors"
   ]
  },
  {
   "cell_type": "code",
   "execution_count": 72,
   "metadata": {
    "collapsed": false
   },
   "outputs": [],
   "source": [
    "recent_grads_fixed.ShareMen = recent_grads_fixed.Men / recent_grads_fixed.Total"
   ]
  },
  {
   "cell_type": "code",
   "execution_count": 73,
   "metadata": {
    "collapsed": true
   },
   "outputs": [],
   "source": [
    "arts = recent_grads_fixed[recent_grads_fixed.Major_category == \"Arts\"]"
   ]
  },
  {
   "cell_type": "code",
   "execution_count": 76,
   "metadata": {
    "collapsed": false
   },
   "outputs": [
    {
     "ename": "ValueError",
     "evalue": "incompatible sizes: argument 'height' must be length 8 or scalar",
     "output_type": "error",
     "traceback": [
      "\u001b[0;31m---------------------------------------------------------------------------\u001b[0m",
      "\u001b[0;31mValueError\u001b[0m                                Traceback (most recent call last)",
      "\u001b[0;32m<ipython-input-76-b46e72e0fa78>\u001b[0m in \u001b[0;36m<module>\u001b[0;34m()\u001b[0m\n\u001b[1;32m      5\u001b[0m \u001b[0mlocs\u001b[0m \u001b[0;34m=\u001b[0m \u001b[0mnp\u001b[0m\u001b[0;34m.\u001b[0m\u001b[0marange\u001b[0m\u001b[0;34m(\u001b[0m\u001b[0;36m0\u001b[0m\u001b[0;34m,\u001b[0m \u001b[0marts\u001b[0m\u001b[0;34m.\u001b[0m\u001b[0mMajor\u001b[0m\u001b[0;34m.\u001b[0m\u001b[0mnunique\u001b[0m\u001b[0;34m(\u001b[0m\u001b[0;34m)\u001b[0m\u001b[0;34m)\u001b[0m\u001b[0;34m\u001b[0m\u001b[0m\n\u001b[1;32m      6\u001b[0m \u001b[0;34m\u001b[0m\u001b[0m\n\u001b[0;32m----> 7\u001b[0;31m \u001b[0max\u001b[0m\u001b[0;34m.\u001b[0m\u001b[0mbar\u001b[0m\u001b[0;34m(\u001b[0m\u001b[0mleft\u001b[0m\u001b[0;34m=\u001b[0m\u001b[0mlocs\u001b[0m\u001b[0;34m,\u001b[0m\u001b[0mheight\u001b[0m\u001b[0;34m=\u001b[0m\u001b[0mrecent_grads_fixed\u001b[0m\u001b[0;34m.\u001b[0m\u001b[0mShareMen\u001b[0m\u001b[0;34m.\u001b[0m\u001b[0mtolist\u001b[0m\u001b[0;34m(\u001b[0m\u001b[0;34m)\u001b[0m\u001b[0;34m,\u001b[0m\u001b[0mwidth\u001b[0m\u001b[0;34m=\u001b[0m\u001b[0;36m0.35\u001b[0m\u001b[0;34m)\u001b[0m\u001b[0;34m\u001b[0m\u001b[0m\n\u001b[0m\u001b[1;32m      8\u001b[0m \u001b[0max\u001b[0m\u001b[0;34m.\u001b[0m\u001b[0mset_xticklabels\u001b[0m\u001b[0;34m(\u001b[0m\u001b[0marts\u001b[0m\u001b[0;34m.\u001b[0m\u001b[0mMajor\u001b[0m\u001b[0;34m.\u001b[0m\u001b[0mtolist\u001b[0m\u001b[0;34m(\u001b[0m\u001b[0;34m)\u001b[0m\u001b[0;34m,\u001b[0m \u001b[0mrotation\u001b[0m\u001b[0;34m=\u001b[0m\u001b[0;36m90\u001b[0m\u001b[0;34m)\u001b[0m\u001b[0;34m\u001b[0m\u001b[0m\n",
      "\u001b[0;32m/Users/aniruddhabarapatre1/anaconda/lib/python3.5/site-packages/matplotlib/__init__.py\u001b[0m in \u001b[0;36minner\u001b[0;34m(ax, *args, **kwargs)\u001b[0m\n\u001b[1;32m   1810\u001b[0m                     warnings.warn(msg % (label_namer, func.__name__),\n\u001b[1;32m   1811\u001b[0m                                   RuntimeWarning, stacklevel=2)\n\u001b[0;32m-> 1812\u001b[0;31m             \u001b[0;32mreturn\u001b[0m \u001b[0mfunc\u001b[0m\u001b[0;34m(\u001b[0m\u001b[0max\u001b[0m\u001b[0;34m,\u001b[0m \u001b[0;34m*\u001b[0m\u001b[0margs\u001b[0m\u001b[0;34m,\u001b[0m \u001b[0;34m**\u001b[0m\u001b[0mkwargs\u001b[0m\u001b[0;34m)\u001b[0m\u001b[0;34m\u001b[0m\u001b[0m\n\u001b[0m\u001b[1;32m   1813\u001b[0m         \u001b[0mpre_doc\u001b[0m \u001b[0;34m=\u001b[0m \u001b[0minner\u001b[0m\u001b[0;34m.\u001b[0m\u001b[0m__doc__\u001b[0m\u001b[0;34m\u001b[0m\u001b[0m\n\u001b[1;32m   1814\u001b[0m         \u001b[0;32mif\u001b[0m \u001b[0mpre_doc\u001b[0m \u001b[0;32mis\u001b[0m \u001b[0;32mNone\u001b[0m\u001b[0;34m:\u001b[0m\u001b[0;34m\u001b[0m\u001b[0m\n",
      "\u001b[0;32m/Users/aniruddhabarapatre1/anaconda/lib/python3.5/site-packages/matplotlib/axes/_axes.py\u001b[0m in \u001b[0;36mbar\u001b[0;34m(self, left, height, width, bottom, **kwargs)\u001b[0m\n\u001b[1;32m   2078\u001b[0m         \u001b[0;32mif\u001b[0m \u001b[0mlen\u001b[0m\u001b[0;34m(\u001b[0m\u001b[0mheight\u001b[0m\u001b[0;34m)\u001b[0m \u001b[0;34m!=\u001b[0m \u001b[0mnbars\u001b[0m\u001b[0;34m:\u001b[0m\u001b[0;34m\u001b[0m\u001b[0m\n\u001b[1;32m   2079\u001b[0m             raise ValueError(\"incompatible sizes: argument 'height' \"\n\u001b[0;32m-> 2080\u001b[0;31m                               \"must be length %d or scalar\" % nbars)\n\u001b[0m\u001b[1;32m   2081\u001b[0m         \u001b[0;32mif\u001b[0m \u001b[0mlen\u001b[0m\u001b[0;34m(\u001b[0m\u001b[0mwidth\u001b[0m\u001b[0;34m)\u001b[0m \u001b[0;34m!=\u001b[0m \u001b[0mnbars\u001b[0m\u001b[0;34m:\u001b[0m\u001b[0;34m\u001b[0m\u001b[0m\n\u001b[1;32m   2082\u001b[0m             raise ValueError(\"incompatible sizes: argument 'width' \"\n",
      "\u001b[0;31mValueError\u001b[0m: incompatible sizes: argument 'height' must be length 8 or scalar"
     ]
    },
    {
     "data": {
      "image/png": "[encoded data removed]",
      "text/plain": [
       "<matplotlib.figure.Figure at 0x11620b198>"
      ]
     },
     "metadata": {},
     "output_type": "display_data"
    }
   ],
   "source": [
    "fig2 = plt.figure(figsize=(8,8))\n",
    "ax = fig2.add_subplot(1,1,1)\n",
    "\n",
    "import numpy as np\n",
    "locs = np.arange(0, arts.Major.nunique())\n",
    "\n",
    "ax.bar(left=locs,height=recent_grads_fixed.ShareMen.tolist(),width=0.35)\n",
    "ax.set_xticklabels(arts.Major.tolist(), rotation=90)"
   ]
  },
  {
   "cell_type": "code",
   "execution_count": null,
   "metadata": {
    "collapsed": true
   },
   "outputs": [],
   "source": []
  }
 ],
 "metadata": {
  "anaconda-cloud": {},
  "kernelspec": {
   "display_name": "Python [Root]",
   "language": "python",
   "name": "Python [Root]"
  },
  "language_info": {
   "codemirror_mode": {
    "name": "ipython",
    "version": 3
   },
   "file_extension": ".py",
   "mimetype": "text/x-python",
   "name": "python",
   "nbconvert_exporter": "python",
   "pygments_lexer": "ipython3",
   "version": "3.5.2"
  }
 },
 "nbformat": 4,
 "nbformat_minor": 0
}
